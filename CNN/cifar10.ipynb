{
  "cells": [
    {
      "cell_type": "code",
      "execution_count": null,
      "metadata": {
        "id": "iueBZgp6xAif"
      },
      "outputs": [],
      "source": [
        "import tensorflow as tf\n",
        "from tensorflow.keras import datasets, layers, models\n",
        "from keras.layers import BatchNormalization\n",
        "import matplotlib.pyplot as plt\n",
        "import numpy as np"
      ]
    },
    {
      "cell_type": "code",
      "execution_count": null,
      "metadata": {
        "colab": {
          "base_uri": "https://localhost:8080/"
        },
        "id": "GyaRl2K2xMS4",
        "outputId": "4ee99d50-2ac9-4efd-a8f0-1b13a75dd41c"
      },
      "outputs": [
        {
          "output_type": "stream",
          "name": "stdout",
          "text": [
            "Downloading data from https://www.cs.toronto.edu/~kriz/cifar-10-python.tar.gz\n",
            "170498071/170498071 [==============================] - 4s 0us/step\n"
          ]
        },
        {
          "output_type": "execute_result",
          "data": {
            "text/plain": [
              "(50000, 32, 32, 3)"
            ]
          },
          "metadata": {},
          "execution_count": 2
        }
      ],
      "source": [
        "(X_train, y_train), (X_test,y_test) = datasets.cifar10.load_data()\n",
        "X_train.shape"
      ]
    },
    {
      "cell_type": "code",
      "execution_count": null,
      "metadata": {
        "colab": {
          "base_uri": "https://localhost:8080/"
        },
        "id": "NE3bbJAGxRZB",
        "outputId": "23cd6b76-0329-4884-a244-b3741ce36890"
      },
      "outputs": [
        {
          "output_type": "execute_result",
          "data": {
            "text/plain": [
              "(10000, 32, 32, 3)"
            ]
          },
          "metadata": {},
          "execution_count": 3
        }
      ],
      "source": [
        "X_test.shape"
      ]
    },
    {
      "cell_type": "code",
      "execution_count": null,
      "metadata": {
        "id": "h1EJKmedxbdQ"
      },
      "outputs": [],
      "source": [
        "# Normalizing the dataset\n",
        "X_train=(X_train)/255\n",
        "X_test=(X_test)/255"
      ]
    },
    {
      "cell_type": "code",
      "execution_count": null,
      "metadata": {
        "colab": {
          "base_uri": "https://localhost:8080/"
        },
        "id": "XeHr5Ngxxxwe",
        "outputId": "36646926-f009-4b8c-d0c5-5080d8854c33"
      },
      "outputs": [
        {
          "output_type": "execute_result",
          "data": {
            "text/plain": [
              "array([[[[0.23137255, 0.24313725, 0.24705882],\n",
              "         [0.16862745, 0.18039216, 0.17647059],\n",
              "         [0.19607843, 0.18823529, 0.16862745],\n",
              "         ...,\n",
              "         [0.61960784, 0.51764706, 0.42352941],\n",
              "         [0.59607843, 0.49019608, 0.4       ],\n",
              "         [0.58039216, 0.48627451, 0.40392157]],\n",
              "\n",
              "        [[0.0627451 , 0.07843137, 0.07843137],\n",
              "         [0.        , 0.        , 0.        ],\n",
              "         [0.07058824, 0.03137255, 0.        ],\n",
              "         ...,\n",
              "         [0.48235294, 0.34509804, 0.21568627],\n",
              "         [0.46666667, 0.3254902 , 0.19607843],\n",
              "         [0.47843137, 0.34117647, 0.22352941]],\n",
              "\n",
              "        [[0.09803922, 0.09411765, 0.08235294],\n",
              "         [0.0627451 , 0.02745098, 0.        ],\n",
              "         [0.19215686, 0.10588235, 0.03137255],\n",
              "         ...,\n",
              "         [0.4627451 , 0.32941176, 0.19607843],\n",
              "         [0.47058824, 0.32941176, 0.19607843],\n",
              "         [0.42745098, 0.28627451, 0.16470588]],\n",
              "\n",
              "        ...,\n",
              "\n",
              "        [[0.81568627, 0.66666667, 0.37647059],\n",
              "         [0.78823529, 0.6       , 0.13333333],\n",
              "         [0.77647059, 0.63137255, 0.10196078],\n",
              "         ...,\n",
              "         [0.62745098, 0.52156863, 0.2745098 ],\n",
              "         [0.21960784, 0.12156863, 0.02745098],\n",
              "         [0.20784314, 0.13333333, 0.07843137]],\n",
              "\n",
              "        [[0.70588235, 0.54509804, 0.37647059],\n",
              "         [0.67843137, 0.48235294, 0.16470588],\n",
              "         [0.72941176, 0.56470588, 0.11764706],\n",
              "         ...,\n",
              "         [0.72156863, 0.58039216, 0.36862745],\n",
              "         [0.38039216, 0.24313725, 0.13333333],\n",
              "         [0.3254902 , 0.20784314, 0.13333333]],\n",
              "\n",
              "        [[0.69411765, 0.56470588, 0.45490196],\n",
              "         [0.65882353, 0.50588235, 0.36862745],\n",
              "         [0.70196078, 0.55686275, 0.34117647],\n",
              "         ...,\n",
              "         [0.84705882, 0.72156863, 0.54901961],\n",
              "         [0.59215686, 0.4627451 , 0.32941176],\n",
              "         [0.48235294, 0.36078431, 0.28235294]]],\n",
              "\n",
              "\n",
              "       [[[0.60392157, 0.69411765, 0.73333333],\n",
              "         [0.49411765, 0.5372549 , 0.53333333],\n",
              "         [0.41176471, 0.40784314, 0.37254902],\n",
              "         ...,\n",
              "         [0.35686275, 0.37254902, 0.27843137],\n",
              "         [0.34117647, 0.35294118, 0.27843137],\n",
              "         [0.30980392, 0.31764706, 0.2745098 ]],\n",
              "\n",
              "        [[0.54901961, 0.62745098, 0.6627451 ],\n",
              "         [0.56862745, 0.6       , 0.60392157],\n",
              "         [0.49019608, 0.49019608, 0.4627451 ],\n",
              "         ...,\n",
              "         [0.37647059, 0.38823529, 0.30588235],\n",
              "         [0.30196078, 0.31372549, 0.24313725],\n",
              "         [0.27843137, 0.28627451, 0.23921569]],\n",
              "\n",
              "        [[0.54901961, 0.60784314, 0.64313725],\n",
              "         [0.54509804, 0.57254902, 0.58431373],\n",
              "         [0.45098039, 0.45098039, 0.43921569],\n",
              "         ...,\n",
              "         [0.30980392, 0.32156863, 0.25098039],\n",
              "         [0.26666667, 0.2745098 , 0.21568627],\n",
              "         [0.2627451 , 0.27058824, 0.21568627]],\n",
              "\n",
              "        ...,\n",
              "\n",
              "        [[0.68627451, 0.65490196, 0.65098039],\n",
              "         [0.61176471, 0.60392157, 0.62745098],\n",
              "         [0.60392157, 0.62745098, 0.66666667],\n",
              "         ...,\n",
              "         [0.16470588, 0.13333333, 0.14117647],\n",
              "         [0.23921569, 0.20784314, 0.22352941],\n",
              "         [0.36470588, 0.3254902 , 0.35686275]],\n",
              "\n",
              "        [[0.64705882, 0.60392157, 0.50196078],\n",
              "         [0.61176471, 0.59607843, 0.50980392],\n",
              "         [0.62352941, 0.63137255, 0.55686275],\n",
              "         ...,\n",
              "         [0.40392157, 0.36470588, 0.37647059],\n",
              "         [0.48235294, 0.44705882, 0.47058824],\n",
              "         [0.51372549, 0.4745098 , 0.51372549]],\n",
              "\n",
              "        [[0.63921569, 0.58039216, 0.47058824],\n",
              "         [0.61960784, 0.58039216, 0.47843137],\n",
              "         [0.63921569, 0.61176471, 0.52156863],\n",
              "         ...,\n",
              "         [0.56078431, 0.52156863, 0.54509804],\n",
              "         [0.56078431, 0.5254902 , 0.55686275],\n",
              "         [0.56078431, 0.52156863, 0.56470588]]],\n",
              "\n",
              "\n",
              "       [[[1.        , 1.        , 1.        ],\n",
              "         [0.99215686, 0.99215686, 0.99215686],\n",
              "         [0.99215686, 0.99215686, 0.99215686],\n",
              "         ...,\n",
              "         [0.99215686, 0.99215686, 0.99215686],\n",
              "         [0.99215686, 0.99215686, 0.99215686],\n",
              "         [0.99215686, 0.99215686, 0.99215686]],\n",
              "\n",
              "        [[1.        , 1.        , 1.        ],\n",
              "         [1.        , 1.        , 1.        ],\n",
              "         [1.        , 1.        , 1.        ],\n",
              "         ...,\n",
              "         [1.        , 1.        , 1.        ],\n",
              "         [1.        , 1.        , 1.        ],\n",
              "         [1.        , 1.        , 1.        ]],\n",
              "\n",
              "        [[1.        , 1.        , 1.        ],\n",
              "         [0.99607843, 0.99607843, 0.99607843],\n",
              "         [0.99607843, 0.99607843, 0.99607843],\n",
              "         ...,\n",
              "         [0.99607843, 0.99607843, 0.99607843],\n",
              "         [0.99607843, 0.99607843, 0.99607843],\n",
              "         [0.99607843, 0.99607843, 0.99607843]],\n",
              "\n",
              "        ...,\n",
              "\n",
              "        [[0.44313725, 0.47058824, 0.43921569],\n",
              "         [0.43529412, 0.4627451 , 0.43529412],\n",
              "         [0.41176471, 0.43921569, 0.41568627],\n",
              "         ...,\n",
              "         [0.28235294, 0.31764706, 0.31372549],\n",
              "         [0.28235294, 0.31372549, 0.30980392],\n",
              "         [0.28235294, 0.31372549, 0.30980392]],\n",
              "\n",
              "        [[0.43529412, 0.4627451 , 0.43137255],\n",
              "         [0.40784314, 0.43529412, 0.40784314],\n",
              "         [0.38823529, 0.41568627, 0.38431373],\n",
              "         ...,\n",
              "         [0.26666667, 0.29411765, 0.28627451],\n",
              "         [0.2745098 , 0.29803922, 0.29411765],\n",
              "         [0.30588235, 0.32941176, 0.32156863]],\n",
              "\n",
              "        [[0.41568627, 0.44313725, 0.41176471],\n",
              "         [0.38823529, 0.41568627, 0.38431373],\n",
              "         [0.37254902, 0.4       , 0.36862745],\n",
              "         ...,\n",
              "         [0.30588235, 0.33333333, 0.3254902 ],\n",
              "         [0.30980392, 0.33333333, 0.3254902 ],\n",
              "         [0.31372549, 0.3372549 , 0.32941176]]],\n",
              "\n",
              "\n",
              "       ...,\n",
              "\n",
              "\n",
              "       [[[0.1372549 , 0.69803922, 0.92156863],\n",
              "         [0.15686275, 0.69019608, 0.9372549 ],\n",
              "         [0.16470588, 0.69019608, 0.94509804],\n",
              "         ...,\n",
              "         [0.38823529, 0.69411765, 0.85882353],\n",
              "         [0.30980392, 0.57647059, 0.77254902],\n",
              "         [0.34901961, 0.58039216, 0.74117647]],\n",
              "\n",
              "        [[0.22352941, 0.71372549, 0.91764706],\n",
              "         [0.17254902, 0.72156863, 0.98039216],\n",
              "         [0.19607843, 0.71764706, 0.94117647],\n",
              "         ...,\n",
              "         [0.61176471, 0.71372549, 0.78431373],\n",
              "         [0.55294118, 0.69411765, 0.80784314],\n",
              "         [0.45490196, 0.58431373, 0.68627451]],\n",
              "\n",
              "        [[0.38431373, 0.77254902, 0.92941176],\n",
              "         [0.25098039, 0.74117647, 0.98823529],\n",
              "         [0.27058824, 0.75294118, 0.96078431],\n",
              "         ...,\n",
              "         [0.7372549 , 0.76470588, 0.80784314],\n",
              "         [0.46666667, 0.52941176, 0.57647059],\n",
              "         [0.23921569, 0.30980392, 0.35294118]],\n",
              "\n",
              "        ...,\n",
              "\n",
              "        [[0.28627451, 0.30980392, 0.30196078],\n",
              "         [0.20784314, 0.24705882, 0.26666667],\n",
              "         [0.21176471, 0.26666667, 0.31372549],\n",
              "         ...,\n",
              "         [0.06666667, 0.15686275, 0.25098039],\n",
              "         [0.08235294, 0.14117647, 0.2       ],\n",
              "         [0.12941176, 0.18823529, 0.19215686]],\n",
              "\n",
              "        [[0.23921569, 0.26666667, 0.29411765],\n",
              "         [0.21568627, 0.2745098 , 0.3372549 ],\n",
              "         [0.22352941, 0.30980392, 0.40392157],\n",
              "         ...,\n",
              "         [0.09411765, 0.18823529, 0.28235294],\n",
              "         [0.06666667, 0.1372549 , 0.20784314],\n",
              "         [0.02745098, 0.09019608, 0.1254902 ]],\n",
              "\n",
              "        [[0.17254902, 0.21960784, 0.28627451],\n",
              "         [0.18039216, 0.25882353, 0.34509804],\n",
              "         [0.19215686, 0.30196078, 0.41176471],\n",
              "         ...,\n",
              "         [0.10588235, 0.20392157, 0.30196078],\n",
              "         [0.08235294, 0.16862745, 0.25882353],\n",
              "         [0.04705882, 0.12156863, 0.19607843]]],\n",
              "\n",
              "\n",
              "       [[[0.74117647, 0.82745098, 0.94117647],\n",
              "         [0.72941176, 0.81568627, 0.9254902 ],\n",
              "         [0.7254902 , 0.81176471, 0.92156863],\n",
              "         ...,\n",
              "         [0.68627451, 0.76470588, 0.87843137],\n",
              "         [0.6745098 , 0.76078431, 0.87058824],\n",
              "         [0.6627451 , 0.76078431, 0.8627451 ]],\n",
              "\n",
              "        [[0.76078431, 0.82352941, 0.9372549 ],\n",
              "         [0.74901961, 0.81176471, 0.9254902 ],\n",
              "         [0.74509804, 0.80784314, 0.92156863],\n",
              "         ...,\n",
              "         [0.67843137, 0.75294118, 0.8627451 ],\n",
              "         [0.67058824, 0.74901961, 0.85490196],\n",
              "         [0.65490196, 0.74509804, 0.84705882]],\n",
              "\n",
              "        [[0.81568627, 0.85882353, 0.95686275],\n",
              "         [0.80392157, 0.84705882, 0.94117647],\n",
              "         [0.8       , 0.84313725, 0.9372549 ],\n",
              "         ...,\n",
              "         [0.68627451, 0.74901961, 0.85098039],\n",
              "         [0.6745098 , 0.74509804, 0.84705882],\n",
              "         [0.6627451 , 0.74901961, 0.84313725]],\n",
              "\n",
              "        ...,\n",
              "\n",
              "        [[0.81176471, 0.78039216, 0.70980392],\n",
              "         [0.79607843, 0.76470588, 0.68627451],\n",
              "         [0.79607843, 0.76862745, 0.67843137],\n",
              "         ...,\n",
              "         [0.52941176, 0.51764706, 0.49803922],\n",
              "         [0.63529412, 0.61960784, 0.58823529],\n",
              "         [0.65882353, 0.63921569, 0.59215686]],\n",
              "\n",
              "        [[0.77647059, 0.74509804, 0.66666667],\n",
              "         [0.74117647, 0.70980392, 0.62352941],\n",
              "         [0.70588235, 0.6745098 , 0.57647059],\n",
              "         ...,\n",
              "         [0.69803922, 0.67058824, 0.62745098],\n",
              "         [0.68627451, 0.6627451 , 0.61176471],\n",
              "         [0.68627451, 0.6627451 , 0.60392157]],\n",
              "\n",
              "        [[0.77647059, 0.74117647, 0.67843137],\n",
              "         [0.74117647, 0.70980392, 0.63529412],\n",
              "         [0.69803922, 0.66666667, 0.58431373],\n",
              "         ...,\n",
              "         [0.76470588, 0.72156863, 0.6627451 ],\n",
              "         [0.76862745, 0.74117647, 0.67058824],\n",
              "         [0.76470588, 0.74509804, 0.67058824]]],\n",
              "\n",
              "\n",
              "       [[[0.89803922, 0.89803922, 0.9372549 ],\n",
              "         [0.9254902 , 0.92941176, 0.96862745],\n",
              "         [0.91764706, 0.9254902 , 0.96862745],\n",
              "         ...,\n",
              "         [0.85098039, 0.85882353, 0.91372549],\n",
              "         [0.86666667, 0.8745098 , 0.91764706],\n",
              "         [0.87058824, 0.8745098 , 0.91372549]],\n",
              "\n",
              "        [[0.87058824, 0.86666667, 0.89803922],\n",
              "         [0.9372549 , 0.9372549 , 0.97647059],\n",
              "         [0.91372549, 0.91764706, 0.96470588],\n",
              "         ...,\n",
              "         [0.8745098 , 0.8745098 , 0.9254902 ],\n",
              "         [0.89019608, 0.89411765, 0.93333333],\n",
              "         [0.82352941, 0.82745098, 0.8627451 ]],\n",
              "\n",
              "        [[0.83529412, 0.80784314, 0.82745098],\n",
              "         [0.91764706, 0.90980392, 0.9372549 ],\n",
              "         [0.90588235, 0.91372549, 0.95686275],\n",
              "         ...,\n",
              "         [0.8627451 , 0.8627451 , 0.90980392],\n",
              "         [0.8627451 , 0.85882353, 0.90980392],\n",
              "         [0.79215686, 0.79607843, 0.84313725]],\n",
              "\n",
              "        ...,\n",
              "\n",
              "        [[0.58823529, 0.56078431, 0.52941176],\n",
              "         [0.54901961, 0.52941176, 0.49803922],\n",
              "         [0.51764706, 0.49803922, 0.47058824],\n",
              "         ...,\n",
              "         [0.87843137, 0.87058824, 0.85490196],\n",
              "         [0.90196078, 0.89411765, 0.88235294],\n",
              "         [0.94509804, 0.94509804, 0.93333333]],\n",
              "\n",
              "        [[0.5372549 , 0.51764706, 0.49411765],\n",
              "         [0.50980392, 0.49803922, 0.47058824],\n",
              "         [0.49019608, 0.4745098 , 0.45098039],\n",
              "         ...,\n",
              "         [0.70980392, 0.70588235, 0.69803922],\n",
              "         [0.79215686, 0.78823529, 0.77647059],\n",
              "         [0.83137255, 0.82745098, 0.81176471]],\n",
              "\n",
              "        [[0.47843137, 0.46666667, 0.44705882],\n",
              "         [0.4627451 , 0.45490196, 0.43137255],\n",
              "         [0.47058824, 0.45490196, 0.43529412],\n",
              "         ...,\n",
              "         [0.70196078, 0.69411765, 0.67843137],\n",
              "         [0.64313725, 0.64313725, 0.63529412],\n",
              "         [0.63921569, 0.63921569, 0.63137255]]]])"
            ]
          },
          "metadata": {},
          "execution_count": 5
        }
      ],
      "source": [
        "X_train"
      ]
    },
    {
      "cell_type": "code",
      "execution_count": null,
      "metadata": {
        "id": "z46AIRF-x0Kg"
      },
      "outputs": [],
      "source": [
        "cnn = models.Sequential([\n",
        "    layers.Conv2D(filters=32, kernel_size=(3, 3), activation='relu', input_shape=(32, 32, 3)),\n",
        "    layers.MaxPooling2D((2, 2)),\n",
        "\n",
        "    layers.Conv2D(filters=64, kernel_size=(3, 3), activation='relu'),\n",
        "    layers.MaxPooling2D((2, 2)),\n",
        "\n",
        "    layers.Flatten(),\n",
        "    layers.Dense(64, activation='relu'),\n",
        "    layers.Dense(10, activation='softmax')\n",
        "])"
      ]
    },
    {
      "cell_type": "code",
      "execution_count": null,
      "metadata": {
        "id": "VD315r2Dx_9G"
      },
      "outputs": [],
      "source": [
        "cnn.compile(optimizer='adam',\n",
        "              loss='sparse_categorical_crossentropy',\n",
        "              metrics=['accuracy'])"
      ]
    },
    {
      "cell_type": "code",
      "execution_count": null,
      "metadata": {
        "colab": {
          "base_uri": "https://localhost:8080/"
        },
        "id": "A0D62OGkyCbr",
        "outputId": "dc4bcdbe-4cc5-4b7e-f4d7-a84077ebf79c"
      },
      "outputs": [
        {
          "output_type": "stream",
          "name": "stdout",
          "text": [
            "Epoch 1/10\n",
            "1563/1563 [==============================] - 18s 4ms/step - loss: 1.4536 - accuracy: 0.4809\n",
            "Epoch 2/10\n",
            "1563/1563 [==============================] - 6s 4ms/step - loss: 1.0827 - accuracy: 0.6194\n",
            "Epoch 3/10\n",
            "1563/1563 [==============================] - 7s 4ms/step - loss: 0.9564 - accuracy: 0.6676\n",
            "Epoch 4/10\n",
            "1563/1563 [==============================] - 6s 4ms/step - loss: 0.8687 - accuracy: 0.6990\n",
            "Epoch 5/10\n",
            "1563/1563 [==============================] - 7s 4ms/step - loss: 0.8020 - accuracy: 0.7218\n",
            "Epoch 6/10\n",
            "1563/1563 [==============================] - 6s 4ms/step - loss: 0.7492 - accuracy: 0.7407\n",
            "Epoch 7/10\n",
            "1563/1563 [==============================] - 7s 5ms/step - loss: 0.6944 - accuracy: 0.7577\n",
            "Epoch 8/10\n",
            "1563/1563 [==============================] - 6s 4ms/step - loss: 0.6456 - accuracy: 0.7754\n",
            "Epoch 9/10\n",
            "1563/1563 [==============================] - 8s 5ms/step - loss: 0.6031 - accuracy: 0.7894\n",
            "Epoch 10/10\n",
            "1563/1563 [==============================] - 7s 4ms/step - loss: 0.5613 - accuracy: 0.8052\n"
          ]
        },
        {
          "output_type": "execute_result",
          "data": {
            "text/plain": [
              "<keras.callbacks.History at 0x7a96300c7d60>"
            ]
          },
          "metadata": {},
          "execution_count": 8
        }
      ],
      "source": [
        "cnn.fit(X_train, y_train, epochs=10,batch_size=32)"
      ]
    },
    {
      "cell_type": "code",
      "execution_count": null,
      "metadata": {
        "colab": {
          "base_uri": "https://localhost:8080/"
        },
        "id": "xTCF3xbqybSV",
        "outputId": "74a04028-a49d-4b2a-da26-1d17e72572b2"
      },
      "outputs": [
        {
          "output_type": "stream",
          "name": "stdout",
          "text": [
            "313/313 [==============================] - 1s 2ms/step - loss: 0.9779 - accuracy: 0.6900\n",
            "The accuracy is  0.6899999976158142\n"
          ]
        }
      ],
      "source": [
        "loss,accuracy=cnn.evaluate(X_test,y_test)\n",
        "print(\"The accuracy is \",accuracy)"
      ]
    },
    {
      "cell_type": "code",
      "execution_count": null,
      "metadata": {
        "id": "uQxQyrbu34a6"
      },
      "outputs": [],
      "source": [
        "\"\"\"from sklearn.metrics import classification_report\n",
        "report=classification_report(y_test,)\"\"\""
      ]
    },
    {
      "cell_type": "code",
      "source": [],
      "metadata": {
        "id": "y7XgwShlDhSl"
      },
      "execution_count": null,
      "outputs": []
    },
    {
      "cell_type": "code",
      "execution_count": null,
      "metadata": {
        "id": "Nmr_kyX50Mvx"
      },
      "outputs": [],
      "source": [
        "classes = [\"airplane\",\"automobile\",\"bird\",\"cat\",\"deer\",\"dog\",\"frog\",\"horse\",\"ship\",\"truck\"]"
      ]
    },
    {
      "cell_type": "code",
      "execution_count": null,
      "metadata": {
        "id": "qUrhoMKv0B1d"
      },
      "outputs": [],
      "source": [
        "\"\"\"def plot_sample(X, y, index):\n",
        "    plt.figure(figsize = (15,2))\n",
        "    plt.imshow(X[index])\n",
        "    plt.xlabel(classes[y[index]])\"\"\""
      ]
    },
    {
      "cell_type": "code",
      "execution_count": null,
      "metadata": {
        "id": "m5_97Fd80O8f"
      },
      "outputs": [],
      "source": []
    },
    {
      "cell_type": "code",
      "execution_count": null,
      "metadata": {
        "id": "zUY-MN7g0O_G"
      },
      "outputs": [],
      "source": []
    },
    {
      "cell_type": "code",
      "execution_count": null,
      "metadata": {
        "id": "RC-aIQCyz1R9"
      },
      "outputs": [],
      "source": [
        "import cv2\n",
        "from google.colab.patches import cv2_imshow"
      ]
    },
    {
      "cell_type": "code",
      "execution_count": null,
      "metadata": {
        "colab": {
          "base_uri": "https://localhost:8080/",
          "height": 210
        },
        "id": "r2tbE4YAzELa",
        "outputId": "8d9990c5-d08a-4a50-be25-7b5630d2bc13"
      },
      "outputs": [
        {
          "name": "stdout",
          "output_type": "stream",
          "text": [
            "Enter the path of the image to be predicted:/content/frog.png\n"
          ]
        },
        {
          "output_type": "display_data",
          "data": {
            "text/plain": [
              "<PIL.Image.Image image mode=RGB size=207x141 at 0x7A95841C7A00>"
            ],
            "image/png": "[encoded data removed]"
          },
          "metadata": {}
        },
        {
          "output_type": "stream",
          "name": "stdout",
          "text": [
            "1/1 [==============================] - 0s 19ms/step\n",
            "Predicted class: frog\n"
          ]
        }
      ],
      "source": [
        "# Making  a predictive system\n",
        "input_image_path=input('Enter the path of the image to be predicted:')\n",
        "\n",
        "input_image=cv2.imread(input_image_path)\n",
        "input_image_resize=cv2.resize(input_image,(32,32))\n",
        "input_image_resize = cv2.cvtColor(input_image_resize, cv2.COLOR_BGR2RGB)\n",
        "input_image_scaled=input_image_resize/255.\n",
        "input_image_reshaped=np.reshape(input_image_scaled,[1,32,32,3])\n",
        "cv2_imshow(input_image)\n",
        "input_prediction=cnn.predict(input_image_reshaped)\n",
        "\n",
        "input_pred_label=np.argmax(input_prediction)\n",
        "\n",
        "predicted_class_label = classes[input_pred_label]\n",
        "\n",
        "print(\"Predicted class:\", predicted_class_label)"
      ]
    },
    {
      "cell_type": "code",
      "execution_count": null,
      "metadata": {
        "id": "iW1uUUUS3XR5"
      },
      "outputs": [],
      "source": []
    }
  ],
  "metadata": {
    "accelerator": "GPU",
    "colab": {
      "provenance": [],
      "gpuType": "T4"
    },
    "kernelspec": {
      "display_name": "Python 3",
      "name": "python3"
    },
    "language_info": {
      "name": "python"
    }
  },
  "nbformat": 4,
  "nbformat_minor": 0
}